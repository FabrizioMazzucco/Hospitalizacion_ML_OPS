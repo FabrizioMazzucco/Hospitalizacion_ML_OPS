{
 "cells": [
  {
   "cell_type": "code",
   "execution_count": 155,
   "metadata": {
    "id": "SzPhC-FROFGt"
   },
   "outputs": [],
   "source": [
    "import pandas as pd\n",
    "import numpy as np\n"
   ]
  },
  {
   "cell_type": "code",
   "execution_count": 156,
   "metadata": {},
   "outputs": [
    {
     "name": "stderr",
     "output_type": "stream",
     "text": [
      "C:\\Users\\Andy\\AppData\\Local\\Programs\\Python\\Python311\\Lib\\site-packages\\openpyxl\\worksheet\\_reader.py:329: UserWarning: Unknown extension is not supported and will be removed\n",
      "  warn(msg)\n"
     ]
    }
   ],
   "source": [
    "df = pd.read_excel('Hospitalización.xlsx')"
   ]
  },
  {
   "cell_type": "code",
   "execution_count": 157,
   "metadata": {},
   "outputs": [
    {
     "data": {
      "text/html": [
       "<div>\n",
       "<style scoped>\n",
       "    .dataframe tbody tr th:only-of-type {\n",
       "        vertical-align: middle;\n",
       "    }\n",
       "\n",
       "    .dataframe tbody tr th {\n",
       "        vertical-align: top;\n",
       "    }\n",
       "\n",
       "    .dataframe thead th {\n",
       "        text-align: right;\n",
       "    }\n",
       "</style>\n",
       "<table border=\"1\" class=\"dataframe\">\n",
       "  <thead>\n",
       "    <tr style=\"text-align: right;\">\n",
       "      <th></th>\n",
       "      <th>EDAD</th>\n",
       "      <th>DIABETES</th>\n",
       "      <th>HOSPITALIZACIÓN ULTIMO MES</th>\n",
       "      <th>PSA</th>\n",
       "      <th>BIOPSIAS PREVIAS</th>\n",
       "      <th>VOLUMEN PROSTATICO</th>\n",
       "      <th>ANTIBIOTICO UTILIAZADO EN LA PROFILAXIS</th>\n",
       "      <th>NUMERO DE MUESTRAS TOMADAS</th>\n",
       "      <th>CUP</th>\n",
       "      <th>ENF. CRONICA PULMONAR OBSTRUCTIVA</th>\n",
       "      <th>BIOPSIA</th>\n",
       "      <th>NUMERO DE DIAS POST BIOPSIA EN QUE SE PRESENTA LA COMPLICACIÓN INFECCIOSA</th>\n",
       "      <th>FIEBRE</th>\n",
       "      <th>ITU</th>\n",
       "      <th>TIPO DE CULTIVO</th>\n",
       "      <th>AGENTE AISLADO</th>\n",
       "      <th>PATRON DE RESISTENCIA</th>\n",
       "      <th>HOSPITALIZACION</th>\n",
       "      <th>DIAS HOSPITALIZACION MQ</th>\n",
       "      <th>DIAS HOSPITALIZACIÓN UPC</th>\n",
       "    </tr>\n",
       "  </thead>\n",
       "  <tbody>\n",
       "    <tr>\n",
       "      <th>0</th>\n",
       "      <td>53.0</td>\n",
       "      <td>NO</td>\n",
       "      <td>NO</td>\n",
       "      <td>4.0</td>\n",
       "      <td>NO</td>\n",
       "      <td>SI</td>\n",
       "      <td>FLUOROQUINOLONA_AMINOGLICOSIDO</td>\n",
       "      <td>12.0</td>\n",
       "      <td>NO</td>\n",
       "      <td>NO</td>\n",
       "      <td>NEG</td>\n",
       "      <td>1</td>\n",
       "      <td>SI</td>\n",
       "      <td>NO</td>\n",
       "      <td>NO</td>\n",
       "      <td>NO</td>\n",
       "      <td>NO</td>\n",
       "      <td>SI</td>\n",
       "      <td>2.0</td>\n",
       "      <td>0.0</td>\n",
       "    </tr>\n",
       "    <tr>\n",
       "      <th>1</th>\n",
       "      <td>56.0</td>\n",
       "      <td>NO</td>\n",
       "      <td>NO</td>\n",
       "      <td>7.7</td>\n",
       "      <td>NO</td>\n",
       "      <td>SI</td>\n",
       "      <td>FLUOROQUINOLONA_AMINOGLICOSIDO</td>\n",
       "      <td>12.0</td>\n",
       "      <td>NO</td>\n",
       "      <td>NO</td>\n",
       "      <td>NEG</td>\n",
       "      <td>1</td>\n",
       "      <td>SI</td>\n",
       "      <td>NO</td>\n",
       "      <td>NO</td>\n",
       "      <td>NO</td>\n",
       "      <td>NO</td>\n",
       "      <td>SI</td>\n",
       "      <td>5.0</td>\n",
       "      <td>0.0</td>\n",
       "    </tr>\n",
       "    <tr>\n",
       "      <th>2</th>\n",
       "      <td>57.0</td>\n",
       "      <td>NO</td>\n",
       "      <td>NO</td>\n",
       "      <td>29.0</td>\n",
       "      <td>SI</td>\n",
       "      <td>SI</td>\n",
       "      <td>FLUOROQUINOLONA_AMINOGLICOSIDO</td>\n",
       "      <td>24.0</td>\n",
       "      <td>NO</td>\n",
       "      <td>NO</td>\n",
       "      <td>NEG</td>\n",
       "      <td>1</td>\n",
       "      <td>SI</td>\n",
       "      <td>NO</td>\n",
       "      <td>HEMOCULTIVO</td>\n",
       "      <td>E.COLI</td>\n",
       "      <td>AMPI R, CIPRO R, GENTA R, SULFA M R</td>\n",
       "      <td>SI</td>\n",
       "      <td>4.0</td>\n",
       "      <td>3.0</td>\n",
       "    </tr>\n",
       "    <tr>\n",
       "      <th>3</th>\n",
       "      <td>56.0</td>\n",
       "      <td>NO</td>\n",
       "      <td>NO</td>\n",
       "      <td>7.0</td>\n",
       "      <td>NO</td>\n",
       "      <td>SI</td>\n",
       "      <td>FLUOROQUINOLONA_AMINOGLICOSIDO</td>\n",
       "      <td>12.0</td>\n",
       "      <td>NO</td>\n",
       "      <td>NO</td>\n",
       "      <td>NEG</td>\n",
       "      <td>1</td>\n",
       "      <td>SI</td>\n",
       "      <td>NO</td>\n",
       "      <td>NO</td>\n",
       "      <td>NO</td>\n",
       "      <td>NO</td>\n",
       "      <td>SI</td>\n",
       "      <td>5.0</td>\n",
       "      <td>0.0</td>\n",
       "    </tr>\n",
       "    <tr>\n",
       "      <th>4</th>\n",
       "      <td>55.0</td>\n",
       "      <td>NO</td>\n",
       "      <td>NO</td>\n",
       "      <td>29.0</td>\n",
       "      <td>SI</td>\n",
       "      <td>SI</td>\n",
       "      <td>FLUOROQUINOLONA_AMINOGLICOSIDO</td>\n",
       "      <td>24.0</td>\n",
       "      <td>NO</td>\n",
       "      <td>NO</td>\n",
       "      <td>NEG</td>\n",
       "      <td>1</td>\n",
       "      <td>SI</td>\n",
       "      <td>NO</td>\n",
       "      <td>HEMOCULTIVO</td>\n",
       "      <td>E.COLI</td>\n",
       "      <td>NO</td>\n",
       "      <td>SI</td>\n",
       "      <td>4.0</td>\n",
       "      <td>3.0</td>\n",
       "    </tr>\n",
       "  </tbody>\n",
       "</table>\n",
       "</div>"
      ],
      "text/plain": [
       "   EDAD DIABETES HOSPITALIZACIÓN ULTIMO MES   PSA BIOPSIAS PREVIAS  \\\n",
       "0  53.0       NO                         NO   4.0               NO   \n",
       "1  56.0       NO                         NO   7.7               NO   \n",
       "2  57.0       NO                         NO  29.0               SI   \n",
       "3  56.0       NO                         NO   7.0               NO   \n",
       "4  55.0       NO                         NO  29.0               SI   \n",
       "\n",
       "  VOLUMEN PROSTATICO ANTIBIOTICO UTILIAZADO EN LA PROFILAXIS  \\\n",
       "0                 SI          FLUOROQUINOLONA_AMINOGLICOSIDO   \n",
       "1                 SI          FLUOROQUINOLONA_AMINOGLICOSIDO   \n",
       "2                 SI          FLUOROQUINOLONA_AMINOGLICOSIDO   \n",
       "3                 SI          FLUOROQUINOLONA_AMINOGLICOSIDO   \n",
       "4                 SI          FLUOROQUINOLONA_AMINOGLICOSIDO   \n",
       "\n",
       "   NUMERO DE MUESTRAS TOMADAS CUP ENF. CRONICA PULMONAR OBSTRUCTIVA BIOPSIA  \\\n",
       "0                        12.0  NO                                NO     NEG   \n",
       "1                        12.0  NO                                NO     NEG   \n",
       "2                        24.0  NO                                NO     NEG   \n",
       "3                        12.0  NO                                NO     NEG   \n",
       "4                        24.0  NO                                NO     NEG   \n",
       "\n",
       "  NUMERO DE DIAS POST BIOPSIA EN QUE SE PRESENTA LA COMPLICACIÓN INFECCIOSA  \\\n",
       "0                                                  1                          \n",
       "1                                                  1                          \n",
       "2                                                  1                          \n",
       "3                                                  1                          \n",
       "4                                                  1                          \n",
       "\n",
       "  FIEBRE ITU TIPO DE CULTIVO AGENTE AISLADO  \\\n",
       "0     SI  NO              NO             NO   \n",
       "1     SI  NO              NO             NO   \n",
       "2     SI  NO     HEMOCULTIVO         E.COLI   \n",
       "3     SI  NO              NO             NO   \n",
       "4     SI  NO     HEMOCULTIVO         E.COLI   \n",
       "\n",
       "                  PATRON DE RESISTENCIA HOSPITALIZACION  \\\n",
       "0                                    NO              SI   \n",
       "1                                    NO              SI   \n",
       "2   AMPI R, CIPRO R, GENTA R, SULFA M R              SI   \n",
       "3                                    NO              SI   \n",
       "4                                    NO              SI   \n",
       "\n",
       "   DIAS HOSPITALIZACION MQ  DIAS HOSPITALIZACIÓN UPC  \n",
       "0                      2.0                       0.0  \n",
       "1                      5.0                       0.0  \n",
       "2                      4.0                       3.0  \n",
       "3                      5.0                       0.0  \n",
       "4                      4.0                       3.0  "
      ]
     },
     "execution_count": 157,
     "metadata": {},
     "output_type": "execute_result"
    }
   ],
   "source": [
    "df.head()"
   ]
  },
  {
   "cell_type": "code",
   "execution_count": 158,
   "metadata": {},
   "outputs": [
    {
     "data": {
      "text/plain": [
       "(570, 20)"
      ]
     },
     "execution_count": 158,
     "metadata": {},
     "output_type": "execute_result"
    }
   ],
   "source": [
    "df.shape"
   ]
  },
  {
   "cell_type": "code",
   "execution_count": 159,
   "metadata": {},
   "outputs": [
    {
     "data": {
      "text/html": [
       "<div>\n",
       "<style scoped>\n",
       "    .dataframe tbody tr th:only-of-type {\n",
       "        vertical-align: middle;\n",
       "    }\n",
       "\n",
       "    .dataframe tbody tr th {\n",
       "        vertical-align: top;\n",
       "    }\n",
       "\n",
       "    .dataframe thead th {\n",
       "        text-align: right;\n",
       "    }\n",
       "</style>\n",
       "<table border=\"1\" class=\"dataframe\">\n",
       "  <thead>\n",
       "    <tr style=\"text-align: right;\">\n",
       "      <th></th>\n",
       "      <th>EDAD</th>\n",
       "      <th>PSA</th>\n",
       "      <th>NUMERO DE MUESTRAS TOMADAS</th>\n",
       "      <th>DIAS HOSPITALIZACION MQ</th>\n",
       "      <th>DIAS HOSPITALIZACIÓN UPC</th>\n",
       "    </tr>\n",
       "  </thead>\n",
       "  <tbody>\n",
       "    <tr>\n",
       "      <th>count</th>\n",
       "      <td>568.000000</td>\n",
       "      <td>564.000000</td>\n",
       "      <td>568.000000</td>\n",
       "      <td>568.000000</td>\n",
       "      <td>568.000000</td>\n",
       "    </tr>\n",
       "    <tr>\n",
       "      <th>mean</th>\n",
       "      <td>63.882042</td>\n",
       "      <td>13.271401</td>\n",
       "      <td>12.996479</td>\n",
       "      <td>0.165493</td>\n",
       "      <td>0.014085</td>\n",
       "    </tr>\n",
       "    <tr>\n",
       "      <th>std</th>\n",
       "      <td>9.281517</td>\n",
       "      <td>15.668966</td>\n",
       "      <td>3.921180</td>\n",
       "      <td>0.958066</td>\n",
       "      <td>0.196474</td>\n",
       "    </tr>\n",
       "    <tr>\n",
       "      <th>min</th>\n",
       "      <td>39.000000</td>\n",
       "      <td>0.600000</td>\n",
       "      <td>4.000000</td>\n",
       "      <td>0.000000</td>\n",
       "      <td>0.000000</td>\n",
       "    </tr>\n",
       "    <tr>\n",
       "      <th>25%</th>\n",
       "      <td>59.000000</td>\n",
       "      <td>5.600000</td>\n",
       "      <td>12.000000</td>\n",
       "      <td>0.000000</td>\n",
       "      <td>0.000000</td>\n",
       "    </tr>\n",
       "    <tr>\n",
       "      <th>50%</th>\n",
       "      <td>64.000000</td>\n",
       "      <td>8.000000</td>\n",
       "      <td>12.000000</td>\n",
       "      <td>0.000000</td>\n",
       "      <td>0.000000</td>\n",
       "    </tr>\n",
       "    <tr>\n",
       "      <th>75%</th>\n",
       "      <td>69.000000</td>\n",
       "      <td>15.000000</td>\n",
       "      <td>12.000000</td>\n",
       "      <td>0.000000</td>\n",
       "      <td>0.000000</td>\n",
       "    </tr>\n",
       "    <tr>\n",
       "      <th>max</th>\n",
       "      <td>151.000000</td>\n",
       "      <td>100.000000</td>\n",
       "      <td>24.000000</td>\n",
       "      <td>12.000000</td>\n",
       "      <td>3.000000</td>\n",
       "    </tr>\n",
       "  </tbody>\n",
       "</table>\n",
       "</div>"
      ],
      "text/plain": [
       "             EDAD         PSA  NUMERO DE MUESTRAS TOMADAS  \\\n",
       "count  568.000000  564.000000                  568.000000   \n",
       "mean    63.882042   13.271401                   12.996479   \n",
       "std      9.281517   15.668966                    3.921180   \n",
       "min     39.000000    0.600000                    4.000000   \n",
       "25%     59.000000    5.600000                   12.000000   \n",
       "50%     64.000000    8.000000                   12.000000   \n",
       "75%     69.000000   15.000000                   12.000000   \n",
       "max    151.000000  100.000000                   24.000000   \n",
       "\n",
       "       DIAS HOSPITALIZACION MQ  DIAS HOSPITALIZACIÓN UPC  \n",
       "count               568.000000                568.000000  \n",
       "mean                  0.165493                  0.014085  \n",
       "std                   0.958066                  0.196474  \n",
       "min                   0.000000                  0.000000  \n",
       "25%                   0.000000                  0.000000  \n",
       "50%                   0.000000                  0.000000  \n",
       "75%                   0.000000                  0.000000  \n",
       "max                  12.000000                  3.000000  "
      ]
     },
     "execution_count": 159,
     "metadata": {},
     "output_type": "execute_result"
    }
   ],
   "source": [
    "df.describe() #Columnas numéricas"
   ]
  },
  {
   "cell_type": "markdown",
   "metadata": {},
   "source": [
    "Columna Edad"
   ]
  },
  {
   "cell_type": "code",
   "execution_count": 160,
   "metadata": {},
   "outputs": [
    {
     "data": {
      "text/plain": [
       "EDAD\n",
       "69.0     39\n",
       "63.0     32\n",
       "68.0     31\n",
       "64.0     31\n",
       "67.0     29\n",
       "62.0     29\n",
       "66.0     29\n",
       "71.0     27\n",
       "59.0     27\n",
       "61.0     26\n",
       "58.0     25\n",
       "65.0     21\n",
       "60.0     21\n",
       "57.0     19\n",
       "55.0     14\n",
       "73.0     14\n",
       "70.0     13\n",
       "56.0     13\n",
       "53.0     13\n",
       "54.0     12\n",
       "75.0     12\n",
       "74.0     11\n",
       "52.0      9\n",
       "81.0      7\n",
       "51.0      6\n",
       "42.0      6\n",
       "78.0      6\n",
       "77.0      5\n",
       "50.0      5\n",
       "79.0      4\n",
       "72.0      4\n",
       "47.0      4\n",
       "49.0      3\n",
       "76.0      3\n",
       "84.0      3\n",
       "48.0      2\n",
       "46.0      2\n",
       "39.0      2\n",
       "45.0      2\n",
       "82.0      2\n",
       "143.0     1\n",
       "151.0     1\n",
       "43.0      1\n",
       "44.0      1\n",
       "80.0      1\n",
       "Name: count, dtype: int64"
      ]
     },
     "execution_count": 160,
     "metadata": {},
     "output_type": "execute_result"
    }
   ],
   "source": [
    "df['EDAD'].value_counts() #Vemos los valores atípicos ya que en el describe habia una edad de 151 años"
   ]
  },
  {
   "cell_type": "code",
   "execution_count": 161,
   "metadata": {},
   "outputs": [],
   "source": [
    "def convertir_nulos (valor): #Función para convertir los valores atípicos a nulos\n",
    "    if valor == 151 or valor == 143:\n",
    "        return np.nan\n",
    "    else:\n",
    "        return valor"
   ]
  },
  {
   "cell_type": "code",
   "execution_count": 162,
   "metadata": {},
   "outputs": [],
   "source": [
    "df['EDAD']  = df['EDAD'].apply(convertir_nulos) #Aplico funcion"
   ]
  },
  {
   "cell_type": "markdown",
   "metadata": {},
   "source": [
    "Columna Diabetes"
   ]
  },
  {
   "cell_type": "code",
   "execution_count": 163,
   "metadata": {},
   "outputs": [
    {
     "data": {
      "text/plain": [
       "DIABETES\n",
       "NO    505\n",
       "SI     63\n",
       "Name: count, dtype: int64"
      ]
     },
     "execution_count": 163,
     "metadata": {},
     "output_type": "execute_result"
    }
   ],
   "source": [
    "df['DIABETES'].value_counts() #Verificamos que este todo en órden con los valores"
   ]
  },
  {
   "cell_type": "code",
   "execution_count": 164,
   "metadata": {},
   "outputs": [],
   "source": [
    "df['DIABETES'] = df['DIABETES'].replace('', np.nan)  #Reemplazamos valores donde no hay nada por nulos "
   ]
  },
  {
   "cell_type": "code",
   "execution_count": 165,
   "metadata": {},
   "outputs": [],
   "source": [
    "df['DIABETES'] = df['DIABETES'].replace('NO', '0') #Reemplazamos No por cero"
   ]
  },
  {
   "cell_type": "code",
   "execution_count": 166,
   "metadata": {},
   "outputs": [],
   "source": [
    "df['DIABETES'] = df['DIABETES'].replace('SI', '1') #Reemplazamos Si por uno"
   ]
  },
  {
   "cell_type": "code",
   "execution_count": 167,
   "metadata": {},
   "outputs": [],
   "source": [
    "df['DIABETES'] = df['DIABETES'].astype(float) #Cambiamos su valor de str a flotante"
   ]
  },
  {
   "cell_type": "markdown",
   "metadata": {},
   "source": [
    "Columna Hospitalización ultimo mes"
   ]
  },
  {
   "cell_type": "code",
   "execution_count": 168,
   "metadata": {},
   "outputs": [
    {
     "data": {
      "text/plain": [
       "HOSPITALIZACIÓN ULTIMO MES\n",
       "NO    563\n",
       "SI      5\n",
       "Name: count, dtype: int64"
      ]
     },
     "execution_count": 168,
     "metadata": {},
     "output_type": "execute_result"
    }
   ],
   "source": [
    "df['HOSPITALIZACIÓN ULTIMO MES'].value_counts() #Verificamos que este todo en órden con los valores"
   ]
  },
  {
   "cell_type": "code",
   "execution_count": 169,
   "metadata": {},
   "outputs": [],
   "source": [
    "df['HOSPITALIZACIÓN ULTIMO MES'] = df['HOSPITALIZACIÓN ULTIMO MES'].replace('', np.nan) #Reemplazamos valores donde no hay nada por nulos"
   ]
  },
  {
   "cell_type": "code",
   "execution_count": 170,
   "metadata": {},
   "outputs": [],
   "source": [
    "df['HOSPITALIZACIÓN ULTIMO MES'] = df['HOSPITALIZACIÓN ULTIMO MES'].replace('NO', '0') #Reemplazamos No por cero"
   ]
  },
  {
   "cell_type": "code",
   "execution_count": 171,
   "metadata": {},
   "outputs": [],
   "source": [
    "df['HOSPITALIZACIÓN ULTIMO MES'] = df['HOSPITALIZACIÓN ULTIMO MES'].replace('SI', '1') #Reemplazamos Si por uno"
   ]
  },
  {
   "cell_type": "code",
   "execution_count": 172,
   "metadata": {},
   "outputs": [],
   "source": [
    "df['HOSPITALIZACIÓN ULTIMO MES'] = df['HOSPITALIZACIÓN ULTIMO MES'].astype(float) #Cambiamos su valor de str a flotante"
   ]
  },
  {
   "cell_type": "markdown",
   "metadata": {},
   "source": [
    "Columna Biopsias Previas"
   ]
  },
  {
   "cell_type": "code",
   "execution_count": 173,
   "metadata": {},
   "outputs": [
    {
     "data": {
      "text/plain": [
       "BIOPSIAS PREVIAS\n",
       "NO    510\n",
       "SI     56\n",
       "Name: count, dtype: int64"
      ]
     },
     "execution_count": 173,
     "metadata": {},
     "output_type": "execute_result"
    }
   ],
   "source": [
    "df['BIOPSIAS PREVIAS'].value_counts() #Verificamos que este todo en órden con los valores"
   ]
  },
  {
   "cell_type": "code",
   "execution_count": 174,
   "metadata": {},
   "outputs": [],
   "source": [
    "df['BIOPSIAS PREVIAS'] = df['BIOPSIAS PREVIAS'].replace('', np.nan) #Reemplazamos valores donde no hay nada por nulos"
   ]
  },
  {
   "cell_type": "code",
   "execution_count": 175,
   "metadata": {},
   "outputs": [],
   "source": [
    "df['BIOPSIAS PREVIAS'] = df['BIOPSIAS PREVIAS'].replace('NO', '0') #Reemplazamos No por cero"
   ]
  },
  {
   "cell_type": "code",
   "execution_count": 176,
   "metadata": {},
   "outputs": [],
   "source": [
    "df['BIOPSIAS PREVIAS'] = df['BIOPSIAS PREVIAS'].replace('SI', '1') #Reemplazamos Si por uno"
   ]
  },
  {
   "cell_type": "code",
   "execution_count": 177,
   "metadata": {},
   "outputs": [],
   "source": [
    "df['BIOPSIAS PREVIAS'] = df['BIOPSIAS PREVIAS'].astype(float) #Cambiamos su valor de str a flotante"
   ]
  },
  {
   "cell_type": "markdown",
   "metadata": {},
   "source": [
    "Columna Volumen Prostático "
   ]
  },
  {
   "cell_type": "code",
   "execution_count": 178,
   "metadata": {},
   "outputs": [
    {
     "data": {
      "text/plain": [
       "VOLUMEN PROSTATICO\n",
       "SI    408\n",
       "NO    159\n",
       "Name: count, dtype: int64"
      ]
     },
     "execution_count": 178,
     "metadata": {},
     "output_type": "execute_result"
    }
   ],
   "source": [
    "df['VOLUMEN PROSTATICO'].value_counts() #Verificamos que este todo en órden con los valores"
   ]
  },
  {
   "cell_type": "code",
   "execution_count": 179,
   "metadata": {},
   "outputs": [],
   "source": [
    "df['VOLUMEN PROSTATICO'] = df['VOLUMEN PROSTATICO'].replace('', np.nan) #Reemplazamos valores donde no hay nada por nulos"
   ]
  },
  {
   "cell_type": "code",
   "execution_count": 180,
   "metadata": {},
   "outputs": [],
   "source": [
    "df['VOLUMEN PROSTATICO'] = df['VOLUMEN PROSTATICO'].replace('NO', '0') #Reemplazamos No por cero"
   ]
  },
  {
   "cell_type": "code",
   "execution_count": 181,
   "metadata": {},
   "outputs": [],
   "source": [
    "df['VOLUMEN PROSTATICO'] = df['VOLUMEN PROSTATICO'].replace('SI', '1') #Reemplazamos Si por uno"
   ]
  },
  {
   "cell_type": "code",
   "execution_count": 182,
   "metadata": {},
   "outputs": [],
   "source": [
    "df['VOLUMEN PROSTATICO'] = df['VOLUMEN PROSTATICO'].astype(float) #Cambiamos su valor de str a flotante"
   ]
  },
  {
   "cell_type": "markdown",
   "metadata": {},
   "source": [
    "Columna Antibiotico Utilizado en la Profilaxis "
   ]
  },
  {
   "cell_type": "code",
   "execution_count": 183,
   "metadata": {},
   "outputs": [
    {
     "data": {
      "text/plain": [
       "ANTIBIOTICO UTILIAZADO EN LA PROFILAXIS\n",
       "FLUOROQUINOLONA_AMINOGLICOSIDO    448\n",
       "CEFALOSPORINA_AMINOGLUCOCIDO       56\n",
       "OTROS                              42\n",
       "OROQUINOLONAS                      18\n",
       "FLUOROQUINOLONA_AMINOGLICÓSIDO      4\n",
       "Name: count, dtype: int64"
      ]
     },
     "execution_count": 183,
     "metadata": {},
     "output_type": "execute_result"
    }
   ],
   "source": [
    "df['ANTIBIOTICO UTILIAZADO EN LA PROFILAXIS'].value_counts() #Verificamos que este todo en órden con los valores"
   ]
  },
  {
   "cell_type": "code",
   "execution_count": 184,
   "metadata": {},
   "outputs": [],
   "source": [
    "df['ANTIBIOTICO UTILIAZADO EN LA PROFILAXIS'] = df['ANTIBIOTICO UTILIAZADO EN LA PROFILAXIS'].replace('', np.nan) #Reemplazamos valores donde no hay nada por nulos"
   ]
  },
  {
   "cell_type": "code",
   "execution_count": 185,
   "metadata": {},
   "outputs": [],
   "source": [
    "df['ANTIBIOTICO UTILIAZADO EN LA PROFILAXIS'] = df['ANTIBIOTICO UTILIAZADO EN LA PROFILAXIS'].replace('FLUOROQUINOLONA_AMINOGLICOSIDO', '0') #Reemplazo FLUOROQUINOLONA_AMINOGLICOSIDO por cero"
   ]
  },
  {
   "cell_type": "code",
   "execution_count": 186,
   "metadata": {},
   "outputs": [],
   "source": [
    "df['ANTIBIOTICO UTILIAZADO EN LA PROFILAXIS'] = df['ANTIBIOTICO UTILIAZADO EN LA PROFILAXIS'].replace('CEFALOSPORINA_AMINOGLUCOCIDO', '1') #Reemplazo CEFALOSPORINA_AMINOGLUCOCIDO por uno"
   ]
  },
  {
   "cell_type": "code",
   "execution_count": 187,
   "metadata": {},
   "outputs": [],
   "source": [
    "df['ANTIBIOTICO UTILIAZADO EN LA PROFILAXIS'] = df['ANTIBIOTICO UTILIAZADO EN LA PROFILAXIS'].replace('OTROS', '2')#Reemplazo OTROS por dos"
   ]
  },
  {
   "cell_type": "code",
   "execution_count": 188,
   "metadata": {},
   "outputs": [],
   "source": [
    "df['ANTIBIOTICO UTILIAZADO EN LA PROFILAXIS'] = df['ANTIBIOTICO UTILIAZADO EN LA PROFILAXIS'].replace('OROQUINOLONAS', '3')#Reemplazo OROQUINOLONAS por tres "
   ]
  },
  {
   "cell_type": "code",
   "execution_count": 189,
   "metadata": {},
   "outputs": [],
   "source": [
    "df['ANTIBIOTICO UTILIAZADO EN LA PROFILAXIS'] = df['ANTIBIOTICO UTILIAZADO EN LA PROFILAXIS'].replace('FLUOROQUINOLONA_AMINOGLICÓSIDO', '0') #Reemplazo FLUOROQUINOLONA_AMINOGLICÓSIDO por cero ya que es el mismo solo que con una tilde"
   ]
  },
  {
   "cell_type": "code",
   "execution_count": 190,
   "metadata": {},
   "outputs": [],
   "source": [
    "df['ANTIBIOTICO UTILIAZADO EN LA PROFILAXIS'] = df['ANTIBIOTICO UTILIAZADO EN LA PROFILAXIS'].astype(float) #Transformo los valores de str a float"
   ]
  },
  {
   "cell_type": "markdown",
   "metadata": {},
   "source": [
    "Columna Numero de muestras tomadas"
   ]
  },
  {
   "cell_type": "code",
   "execution_count": 191,
   "metadata": {},
   "outputs": [
    {
     "data": {
      "text/plain": [
       "numpy.float64"
      ]
     },
     "execution_count": 191,
     "metadata": {},
     "output_type": "execute_result"
    }
   ],
   "source": [
    "type(df['NUMERO DE MUESTRAS TOMADAS'][0])"
   ]
  },
  {
   "cell_type": "code",
   "execution_count": 192,
   "metadata": {},
   "outputs": [
    {
     "data": {
      "text/plain": [
       "NUMERO DE MUESTRAS TOMADAS\n",
       "12.0    432\n",
       "24.0     42\n",
       "18.0     36\n",
       "6.0      26\n",
       "10.0     10\n",
       "4.0       6\n",
       "16.0      4\n",
       "20.0      4\n",
       "8.0       2\n",
       "15.0      2\n",
       "22.0      2\n",
       "14.0      2\n",
       "Name: count, dtype: int64"
      ]
     },
     "execution_count": 192,
     "metadata": {},
     "output_type": "execute_result"
    }
   ],
   "source": [
    "df['NUMERO DE MUESTRAS TOMADAS'].value_counts()"
   ]
  },
  {
   "cell_type": "markdown",
   "metadata": {},
   "source": [
    "Columna CUP"
   ]
  },
  {
   "cell_type": "code",
   "execution_count": 193,
   "metadata": {},
   "outputs": [
    {
     "data": {
      "text/plain": [
       "CUP\n",
       "NO    563\n",
       "SI      4\n",
       "Name: count, dtype: int64"
      ]
     },
     "execution_count": 193,
     "metadata": {},
     "output_type": "execute_result"
    }
   ],
   "source": [
    "df['CUP'].value_counts() #Verificamos que este todo en órden con los valores"
   ]
  },
  {
   "cell_type": "code",
   "execution_count": 194,
   "metadata": {},
   "outputs": [],
   "source": [
    "df['CUP'] = df['CUP'].replace('', np.nan) #Reemplazamos valores donde no hay nada por nulos"
   ]
  },
  {
   "cell_type": "code",
   "execution_count": 195,
   "metadata": {},
   "outputs": [],
   "source": [
    "df['CUP'] = df['CUP'].replace('NO', '0') #Reemplazamos No por cero"
   ]
  },
  {
   "cell_type": "code",
   "execution_count": 196,
   "metadata": {},
   "outputs": [],
   "source": [
    "df['CUP'] = df['CUP'].replace('SI', '1') #Reemplazamos Si por uno"
   ]
  },
  {
   "cell_type": "code",
   "execution_count": 197,
   "metadata": {},
   "outputs": [],
   "source": [
    "df['CUP'] = df['CUP'].astype(float) #Cambiamos su valor de str a flotante"
   ]
  },
  {
   "cell_type": "markdown",
   "metadata": {},
   "source": [
    "Columna Enfermedad Cronica Pulmonar Obstructiva "
   ]
  },
  {
   "cell_type": "code",
   "execution_count": 198,
   "metadata": {},
   "outputs": [
    {
     "data": {
      "text/plain": [
       "ENF. CRONICA PULMONAR OBSTRUCTIVA\n",
       "NO          546\n",
       "SI           12\n",
       "SI, EPOC      4\n",
       "SI, ASMA      4\n",
       "Name: count, dtype: int64"
      ]
     },
     "execution_count": 198,
     "metadata": {},
     "output_type": "execute_result"
    }
   ],
   "source": [
    "df['ENF. CRONICA PULMONAR OBSTRUCTIVA'].value_counts() #Verificamos que este todo en órden con los valores"
   ]
  },
  {
   "cell_type": "code",
   "execution_count": 199,
   "metadata": {},
   "outputs": [],
   "source": [
    "df['ENF. CRONICA PULMONAR OBSTRUCTIVA'] = df['ENF. CRONICA PULMONAR OBSTRUCTIVA'].replace('', np.nan) #Reemplazamos valores donde no hay nada por nulos"
   ]
  },
  {
   "cell_type": "code",
   "execution_count": 200,
   "metadata": {},
   "outputs": [],
   "source": [
    "df['ENF. CRONICA PULMONAR OBSTRUCTIVA'] = df['ENF. CRONICA PULMONAR OBSTRUCTIVA'].replace('NO', '0') #Reemplazamos No por cero"
   ]
  },
  {
   "cell_type": "code",
   "execution_count": 201,
   "metadata": {},
   "outputs": [],
   "source": [
    "df['ENF. CRONICA PULMONAR OBSTRUCTIVA'] = df['ENF. CRONICA PULMONAR OBSTRUCTIVA'].replace('SI', '1') #Reemplazamos Si por uno"
   ]
  },
  {
   "cell_type": "code",
   "execution_count": 202,
   "metadata": {},
   "outputs": [],
   "source": [
    "df['ENF. CRONICA PULMONAR OBSTRUCTIVA'] = df['ENF. CRONICA PULMONAR OBSTRUCTIVA'].replace('SI, EPOC', '2') #Reemplazamos EPOC por dos"
   ]
  },
  {
   "cell_type": "code",
   "execution_count": 203,
   "metadata": {},
   "outputs": [],
   "source": [
    "df['ENF. CRONICA PULMONAR OBSTRUCTIVA'] = df['ENF. CRONICA PULMONAR OBSTRUCTIVA'].replace('SI, ASMA', '3') #Reemplazamos ASMA por tres"
   ]
  },
  {
   "cell_type": "code",
   "execution_count": 204,
   "metadata": {},
   "outputs": [],
   "source": [
    "df['ENF. CRONICA PULMONAR OBSTRUCTIVA'] = df['ENF. CRONICA PULMONAR OBSTRUCTIVA'].astype(float) #Cambiamos su valor de str a flotante"
   ]
  },
  {
   "cell_type": "markdown",
   "metadata": {},
   "source": [
    "Columna Biopsia"
   ]
  },
  {
   "cell_type": "code",
   "execution_count": 205,
   "metadata": {},
   "outputs": [
    {
     "data": {
      "text/plain": [
       "BIOPSIA\n",
       "NEG                                           322\n",
       "ADENOCARCINOMA GLEASON 7                      106\n",
       "ADENOCARCINOMA GLEASON 6                       38\n",
       "ADENOCARCINOMA GLEASON 8                       22\n",
       "ADENOCARCINOMA GLEASON 9                       20\n",
       "ADENOCARCINOMA GLEASON 6                       16\n",
       "PROSTATITIS                                    14\n",
       "HIPERPLASIA PROSTATICA                         14\n",
       "ADENOCARCINOMA GLEASON 7                       10\n",
       "ADENOCARCINOMA GLEASON 10                       4\n",
       "CARCINOMA INDIFERENCIADO DE CELULAS CLARAS      2\n",
       "Name: count, dtype: int64"
      ]
     },
     "execution_count": 205,
     "metadata": {},
     "output_type": "execute_result"
    }
   ],
   "source": [
    "df['BIOPSIA'].value_counts() #Verificamos que este todo en órden con los valores"
   ]
  },
  {
   "cell_type": "code",
   "execution_count": 206,
   "metadata": {},
   "outputs": [],
   "source": [
    "df['BIOPSIA'] = df['BIOPSIA'].replace('', np.nan) #Reemplazamos valores donde no hay nada por nulos"
   ]
  },
  {
   "cell_type": "code",
   "execution_count": 207,
   "metadata": {},
   "outputs": [],
   "source": [
    "df['BIOPSIA'] = df['BIOPSIA'].replace('NEG', '0') #Reemplazamos NEG por cero"
   ]
  },
  {
   "cell_type": "code",
   "execution_count": 208,
   "metadata": {},
   "outputs": [],
   "source": [
    "df['BIOPSIA'] = df['BIOPSIA'].replace('ADENOCARCINOMA GLEASON 7', '2') #Reemplazamos ADENOCARCINOMA GLEASON 7 por dos"
   ]
  },
  {
   "cell_type": "code",
   "execution_count": 209,
   "metadata": {},
   "outputs": [],
   "source": [
    "df['BIOPSIA'] = df['BIOPSIA'].replace('ADENOCARCINOMA GLEASON 6', '1')#Reemplazamos ADENOCARCINOMA GLEASON 6 por uno"
   ]
  },
  {
   "cell_type": "code",
   "execution_count": 210,
   "metadata": {},
   "outputs": [],
   "source": [
    "df['BIOPSIA'] = df['BIOPSIA'].replace('ADENOCARCINOMA GLEASON 8 ', '3')#Reemplazamos ADENOCARCINOMA GLEASON 8 por tres"
   ]
  },
  {
   "cell_type": "code",
   "execution_count": 211,
   "metadata": {},
   "outputs": [],
   "source": [
    "df['BIOPSIA'] = df['BIOPSIA'].replace('ADENOCARCINOMA GLEASON 9 ', '4')#Reemplazamos ADENOCARCINOMA GLEASON 9 por cuatro"
   ]
  },
  {
   "cell_type": "code",
   "execution_count": 212,
   "metadata": {},
   "outputs": [],
   "source": [
    "df['BIOPSIA'] = df['BIOPSIA'].replace('ADENOCARCINOMA GLEASON 6 ', '1') #Era lo mismo que el 6 pero con un espacio al final"
   ]
  },
  {
   "cell_type": "code",
   "execution_count": 213,
   "metadata": {},
   "outputs": [],
   "source": [
    "df['BIOPSIA'] = df['BIOPSIA'].replace('PROSTATITIS', '6')#Reemplazamos PROSTATITIS por seis"
   ]
  },
  {
   "cell_type": "code",
   "execution_count": 214,
   "metadata": {},
   "outputs": [],
   "source": [
    "df['BIOPSIA'] = df['BIOPSIA'].replace('HIPERPLASIA PROSTATICA', '7')#Reemplazamos HIPERPLASIA PROSTATICA por siete"
   ]
  },
  {
   "cell_type": "code",
   "execution_count": 215,
   "metadata": {},
   "outputs": [],
   "source": [
    "df['BIOPSIA'] = df['BIOPSIA'].replace('ADENOCARCINOMA GLEASON 7 ', '2')#Era lo mismo que el 7 pero con un espacio al final"
   ]
  },
  {
   "cell_type": "code",
   "execution_count": 216,
   "metadata": {},
   "outputs": [],
   "source": [
    "df['BIOPSIA'] = df['BIOPSIA'].replace('ADENOCARCINOMA GLEASON 10 ', '5')#Reemplazamos ADENOCARCINOMA GLEASON 10 por 0¿cinco"
   ]
  },
  {
   "cell_type": "code",
   "execution_count": 217,
   "metadata": {},
   "outputs": [],
   "source": [
    "df['BIOPSIA'] = df['BIOPSIA'].replace('CARCINOMA INDIFERENCIADO DE CELULAS CLARAS', '8') #Reemplazamos CARCINOMA INDIFERENCIADO DE CELULAS CLARAS por ocho"
   ]
  },
  {
   "cell_type": "code",
   "execution_count": 218,
   "metadata": {},
   "outputs": [],
   "source": [
    "df['BIOPSIA'] = df['BIOPSIA'].astype(float) #Transformo de str a float"
   ]
  },
  {
   "cell_type": "markdown",
   "metadata": {},
   "source": [
    "Columna NUMERO DE DIAS POST BIOPSIA EN QUE SE PRESENTA LA COMPLICACIÓN INFECCIOSA"
   ]
  },
  {
   "cell_type": "code",
   "execution_count": 219,
   "metadata": {},
   "outputs": [
    {
     "data": {
      "text/plain": [
       "NUMERO DE DIAS POST BIOPSIA EN QUE SE PRESENTA LA COMPLICACIÓN INFECCIOSA\n",
       "NO    542\n",
       "2       9\n",
       "3       8\n",
       "1       5\n",
       "5       2\n",
       "9       2\n",
       "Name: count, dtype: int64"
      ]
     },
     "execution_count": 219,
     "metadata": {},
     "output_type": "execute_result"
    }
   ],
   "source": [
    "df['NUMERO DE DIAS POST BIOPSIA EN QUE SE PRESENTA LA COMPLICACIÓN INFECCIOSA'].value_counts() #Verificamos que este todo en órden con los valores"
   ]
  },
  {
   "cell_type": "code",
   "execution_count": 220,
   "metadata": {},
   "outputs": [],
   "source": [
    "df['NUMERO DE DIAS POST BIOPSIA EN QUE SE PRESENTA LA COMPLICACIÓN INFECCIOSA'] = df['NUMERO DE DIAS POST BIOPSIA EN QUE SE PRESENTA LA COMPLICACIÓN INFECCIOSA'].replace('', np.nan) #Reemplazamos valores donde no hay nada por nulos"
   ]
  },
  {
   "cell_type": "code",
   "execution_count": 221,
   "metadata": {},
   "outputs": [],
   "source": [
    "df['NUMERO DE DIAS POST BIOPSIA EN QUE SE PRESENTA LA COMPLICACIÓN INFECCIOSA'] = df['NUMERO DE DIAS POST BIOPSIA EN QUE SE PRESENTA LA COMPLICACIÓN INFECCIOSA'].replace('NO', '-1') #Ya que no existen valores con 0 cambio la variable NO por 0 dando a entender que si el valor es 0 quiere decir que no hay complicacion infecciosa"
   ]
  },
  {
   "cell_type": "code",
   "execution_count": 222,
   "metadata": {},
   "outputs": [],
   "source": [
    "df['NUMERO DE DIAS POST BIOPSIA EN QUE SE PRESENTA LA COMPLICACIÓN INFECCIOSA']=df['NUMERO DE DIAS POST BIOPSIA EN QUE SE PRESENTA LA COMPLICACIÓN INFECCIOSA'].astype(float) #Transformamos de str a float"
   ]
  },
  {
   "cell_type": "code",
   "execution_count": 223,
   "metadata": {},
   "outputs": [
    {
     "data": {
      "text/plain": [
       "NUMERO DE DIAS POST BIOPSIA EN QUE SE PRESENTA LA COMPLICACIÓN INFECCIOSA\n",
       "-1.0    542\n",
       " 2.0      9\n",
       " 3.0      8\n",
       " 1.0      5\n",
       " 5.0      2\n",
       " 9.0      2\n",
       "Name: count, dtype: int64"
      ]
     },
     "execution_count": 223,
     "metadata": {},
     "output_type": "execute_result"
    }
   ],
   "source": [
    "df['NUMERO DE DIAS POST BIOPSIA EN QUE SE PRESENTA LA COMPLICACIÓN INFECCIOSA'].value_counts()"
   ]
  },
  {
   "cell_type": "markdown",
   "metadata": {},
   "source": [
    "Columna Fiebre"
   ]
  },
  {
   "cell_type": "code",
   "execution_count": 224,
   "metadata": {},
   "outputs": [
    {
     "data": {
      "text/plain": [
       "FIEBRE\n",
       "NO    531\n",
       "SI     37\n",
       "Name: count, dtype: int64"
      ]
     },
     "execution_count": 224,
     "metadata": {},
     "output_type": "execute_result"
    }
   ],
   "source": [
    "df['FIEBRE'].value_counts() #Verificamos datos"
   ]
  },
  {
   "cell_type": "code",
   "execution_count": 225,
   "metadata": {},
   "outputs": [],
   "source": [
    "df['FIEBRE']  = df['FIEBRE'].replace('',np.nan) #Reemplazamos valores donde no hay nada por nulos"
   ]
  },
  {
   "cell_type": "code",
   "execution_count": 226,
   "metadata": {},
   "outputs": [],
   "source": [
    "df['FIEBRE'] = df['FIEBRE'].replace('NO', '0') #Reemplazamos No por cero"
   ]
  },
  {
   "cell_type": "code",
   "execution_count": 227,
   "metadata": {},
   "outputs": [],
   "source": [
    "df['FIEBRE'] = df['FIEBRE'].replace('SI', '1') #Reemplazamos Si por uno"
   ]
  },
  {
   "cell_type": "code",
   "execution_count": 228,
   "metadata": {},
   "outputs": [],
   "source": [
    "df['FIEBRE'] = df['FIEBRE'].astype(float) #Transformamos de str a float"
   ]
  },
  {
   "cell_type": "markdown",
   "metadata": {},
   "source": [
    "Columna ITU"
   ]
  },
  {
   "cell_type": "code",
   "execution_count": 229,
   "metadata": {},
   "outputs": [
    {
     "data": {
      "text/plain": [
       "ITU\n",
       "NO    562\n",
       "SI      6\n",
       "Name: count, dtype: int64"
      ]
     },
     "execution_count": 229,
     "metadata": {},
     "output_type": "execute_result"
    }
   ],
   "source": [
    "df['ITU'].value_counts() #Verificamos datos"
   ]
  },
  {
   "cell_type": "code",
   "execution_count": 230,
   "metadata": {},
   "outputs": [],
   "source": [
    "df['ITU']  = df['ITU'].replace('',np.nan) #Reemplazamos valores donde no hay nada por nulos"
   ]
  },
  {
   "cell_type": "code",
   "execution_count": 231,
   "metadata": {},
   "outputs": [],
   "source": [
    "df['ITU'] = df['ITU'].replace('NO', '0') #Reemplazamos No por cero"
   ]
  },
  {
   "cell_type": "code",
   "execution_count": 232,
   "metadata": {},
   "outputs": [],
   "source": [
    "df['ITU'] = df['ITU'].replace('SI', '1') #Reemplazamos Si por uno"
   ]
  },
  {
   "cell_type": "code",
   "execution_count": 233,
   "metadata": {},
   "outputs": [],
   "source": [
    "df['ITU'] = df['ITU'].astype(float) #Transformamos de str a float"
   ]
  },
  {
   "cell_type": "markdown",
   "metadata": {},
   "source": [
    "Columna Tipo de cultivo"
   ]
  },
  {
   "cell_type": "code",
   "execution_count": 234,
   "metadata": {},
   "outputs": [
    {
     "data": {
      "text/plain": [
       "TIPO DE CULTIVO\n",
       "NO                          560\n",
       "UROCULTIVO                    4\n",
       "HEMOCULTIVO                   2\n",
       "HEMOCULTIVO Y UROCULTIVO      2\n",
       "Name: count, dtype: int64"
      ]
     },
     "execution_count": 234,
     "metadata": {},
     "output_type": "execute_result"
    }
   ],
   "source": [
    "df['TIPO DE CULTIVO'].value_counts()#Verificamos datos"
   ]
  },
  {
   "cell_type": "code",
   "execution_count": 235,
   "metadata": {},
   "outputs": [],
   "source": [
    "df['TIPO DE CULTIVO'] = df['TIPO DE CULTIVO'].replace('', np.nan) #Reemplazamos valores donde no hay nada por nulos"
   ]
  },
  {
   "cell_type": "code",
   "execution_count": 236,
   "metadata": {},
   "outputs": [],
   "source": [
    "df['TIPO DE CULTIVO'] = df['TIPO DE CULTIVO'].replace('NO', '0') #Reemplazamos No por cero"
   ]
  },
  {
   "cell_type": "code",
   "execution_count": 237,
   "metadata": {},
   "outputs": [],
   "source": [
    "df['TIPO DE CULTIVO'] = df['TIPO DE CULTIVO'].replace('UROCULTIVO', '1') #Reemplazamos Si por uno"
   ]
  },
  {
   "cell_type": "code",
   "execution_count": 238,
   "metadata": {},
   "outputs": [],
   "source": [
    "df['TIPO DE CULTIVO'] = df['TIPO DE CULTIVO'].replace('HEMOCULTIVO', '2') #Reemplazamos EPOC por dos"
   ]
  },
  {
   "cell_type": "code",
   "execution_count": 239,
   "metadata": {},
   "outputs": [],
   "source": [
    "df['TIPO DE CULTIVO'] = df['TIPO DE CULTIVO'].replace('HEMOCULTIVO Y UROCULTIVO', '3') #Reemplazamos ASMA por tres"
   ]
  },
  {
   "cell_type": "code",
   "execution_count": 240,
   "metadata": {},
   "outputs": [],
   "source": [
    "df['TIPO DE CULTIVO'] = df['TIPO DE CULTIVO'].astype(float) #Cambiamos su valor de str a flotante"
   ]
  },
  {
   "cell_type": "markdown",
   "metadata": {},
   "source": [
    "Columna Agente aislado"
   ]
  },
  {
   "cell_type": "code",
   "execution_count": 241,
   "metadata": {},
   "outputs": [
    {
     "data": {
      "text/plain": [
       "AGENTE AISLADO\n",
       "NO                        543\n",
       "E.COLI                      6\n",
       "PSEUDOMONAS AERUGINOSA      2\n",
       "Name: count, dtype: int64"
      ]
     },
     "execution_count": 241,
     "metadata": {},
     "output_type": "execute_result"
    }
   ],
   "source": [
    "df['AGENTE AISLADO'].value_counts()#Verificamos datos"
   ]
  },
  {
   "cell_type": "code",
   "execution_count": 242,
   "metadata": {},
   "outputs": [],
   "source": [
    "df['AGENTE AISLADO'] = df['AGENTE AISLADO'].replace('', np.nan) #Reemplazamos valores donde no hay nada por nulos"
   ]
  },
  {
   "cell_type": "code",
   "execution_count": 243,
   "metadata": {},
   "outputs": [],
   "source": [
    "df['AGENTE AISLADO'] = df['AGENTE AISLADO'].replace('NO', '0') #Reemplazamos No por cero"
   ]
  },
  {
   "cell_type": "code",
   "execution_count": 244,
   "metadata": {},
   "outputs": [],
   "source": [
    "df['AGENTE AISLADO'] = df['AGENTE AISLADO'].replace('E.COLI', '1') #Reemplazamos Si por uno"
   ]
  },
  {
   "cell_type": "code",
   "execution_count": 245,
   "metadata": {},
   "outputs": [],
   "source": [
    "df['AGENTE AISLADO'] = df['AGENTE AISLADO'].replace('PSEUDOMONAS AERUGINOSA', '2') #Reemplazamos EPOC por dos"
   ]
  },
  {
   "cell_type": "code",
   "execution_count": 246,
   "metadata": {},
   "outputs": [],
   "source": [
    "df['AGENTE AISLADO'] = df['AGENTE AISLADO'].astype(float) #Cambiamos su valor de str a flotante"
   ]
  },
  {
   "cell_type": "markdown",
   "metadata": {},
   "source": [
    "Columna Patron de resistencia"
   ]
  },
  {
   "cell_type": "code",
   "execution_count": 247,
   "metadata": {},
   "outputs": [
    {
     "data": {
      "text/plain": [
       "PATRON DE RESISTENCIA\n",
       "NO                                                                                 561\n",
       "RESISTENTE A AMPI, CIPRO Y GENTA                                                     2\n",
       "RESISTENTE A AMPI, SULFA, CEFADROXILO, CEFUROXIMO, CIPRO Y CEFEPIME, CEFOTAXIMA      2\n",
       "MULTI SENSIBLE                                                                       2\n",
       " AMPI R, CIPRO R, GENTA R, SULFA M R                                                 1\n",
       "Name: count, dtype: int64"
      ]
     },
     "execution_count": 247,
     "metadata": {},
     "output_type": "execute_result"
    }
   ],
   "source": [
    "df['PATRON DE RESISTENCIA'].value_counts() #Verificamos datos"
   ]
  },
  {
   "cell_type": "code",
   "execution_count": 248,
   "metadata": {},
   "outputs": [],
   "source": [
    "df['PATRON DE RESISTENCIA'] = df['PATRON DE RESISTENCIA'].replace('', np.nan) #Reemplazamos valores donde no hay nada por nulos"
   ]
  },
  {
   "cell_type": "code",
   "execution_count": 249,
   "metadata": {},
   "outputs": [],
   "source": [
    "df['PATRON DE RESISTENCIA'] = df['PATRON DE RESISTENCIA'].replace('NO', '0') #Reemplazamos No por cero"
   ]
  },
  {
   "cell_type": "code",
   "execution_count": 250,
   "metadata": {},
   "outputs": [],
   "source": [
    "df['PATRON DE RESISTENCIA'] = df['PATRON DE RESISTENCIA'].replace('RESISTENTE A AMPI, CIPRO Y GENTA', '1') #Reemplazamos RESISTENTE A AMPI, CIPRO Y GENTA por uno"
   ]
  },
  {
   "cell_type": "code",
   "execution_count": 251,
   "metadata": {},
   "outputs": [],
   "source": [
    "df['PATRON DE RESISTENCIA'] = df['PATRON DE RESISTENCIA'].replace('RESISTENTE A AMPI, SULFA, CEFADROXILO, CEFUROXIMO, CIPRO Y CEFEPIME, CEFOTAXIMA', '2') #Reemplazamos RESISTENTE A AMPI, SULFA, CEFADROXILO, CEFUROXIMO, CIPRO Y CEFEPIME, CEFOTAXIMA por dos"
   ]
  },
  {
   "cell_type": "code",
   "execution_count": 252,
   "metadata": {},
   "outputs": [],
   "source": [
    "df['PATRON DE RESISTENCIA'] = df['PATRON DE RESISTENCIA'].replace('MULTI SENSIBLE', '3') #Reemplazamos MULTI SENSIBLE por tres"
   ]
  },
  {
   "cell_type": "code",
   "execution_count": 253,
   "metadata": {},
   "outputs": [],
   "source": [
    "df['PATRON DE RESISTENCIA'] = df['PATRON DE RESISTENCIA'].replace(' AMPI R, CIPRO R, GENTA R, SULFA M R', '4') #Reemplazamos  AMPI R, CIPRO R, GENTA R, SULFA M R por cuatro"
   ]
  },
  {
   "cell_type": "code",
   "execution_count": 254,
   "metadata": {},
   "outputs": [],
   "source": [
    "df['PATRON DE RESISTENCIA'] = df['PATRON DE RESISTENCIA'].astype(float) #Cambiamos su valor de str a flotante"
   ]
  },
  {
   "cell_type": "markdown",
   "metadata": {},
   "source": [
    "Columna HOSPITALIZACION"
   ]
  },
  {
   "cell_type": "code",
   "execution_count": 255,
   "metadata": {},
   "outputs": [
    {
     "data": {
      "text/plain": [
       "HOSPITALIZACION\n",
       "NO    541\n",
       "SI     24\n",
       "Name: count, dtype: int64"
      ]
     },
     "execution_count": 255,
     "metadata": {},
     "output_type": "execute_result"
    }
   ],
   "source": [
    "df['HOSPITALIZACION'].value_counts() #Verificamos datos"
   ]
  },
  {
   "cell_type": "code",
   "execution_count": 256,
   "metadata": {},
   "outputs": [],
   "source": [
    "df['HOSPITALIZACION'] = df['HOSPITALIZACION'].replace('', np.nan) #Reemplazamos valores donde no hay nada por nulos"
   ]
  },
  {
   "cell_type": "code",
   "execution_count": 257,
   "metadata": {},
   "outputs": [],
   "source": [
    "df['HOSPITALIZACION'] = df['HOSPITALIZACION'].replace('NO', '0') #Reemplazamos No por cero"
   ]
  },
  {
   "cell_type": "code",
   "execution_count": 258,
   "metadata": {},
   "outputs": [],
   "source": [
    "df['HOSPITALIZACION'] = df['HOSPITALIZACION'].replace('SI', '1') #Reemplazamos SI por uno"
   ]
  },
  {
   "cell_type": "code",
   "execution_count": 259,
   "metadata": {},
   "outputs": [],
   "source": [
    "df['HOSPITALIZACION'] = df['HOSPITALIZACION'].astype(float) #Cambiamos su valor de str a flotante"
   ]
  },
  {
   "cell_type": "code",
   "execution_count": 260,
   "metadata": {},
   "outputs": [
    {
     "data": {
      "text/html": [
       "<div>\n",
       "<style scoped>\n",
       "    .dataframe tbody tr th:only-of-type {\n",
       "        vertical-align: middle;\n",
       "    }\n",
       "\n",
       "    .dataframe tbody tr th {\n",
       "        vertical-align: top;\n",
       "    }\n",
       "\n",
       "    .dataframe thead th {\n",
       "        text-align: right;\n",
       "    }\n",
       "</style>\n",
       "<table border=\"1\" class=\"dataframe\">\n",
       "  <thead>\n",
       "    <tr style=\"text-align: right;\">\n",
       "      <th></th>\n",
       "      <th>EDAD</th>\n",
       "      <th>DIABETES</th>\n",
       "      <th>HOSPITALIZACIÓN ULTIMO MES</th>\n",
       "      <th>PSA</th>\n",
       "      <th>BIOPSIAS PREVIAS</th>\n",
       "      <th>VOLUMEN PROSTATICO</th>\n",
       "      <th>ANTIBIOTICO UTILIAZADO EN LA PROFILAXIS</th>\n",
       "      <th>NUMERO DE MUESTRAS TOMADAS</th>\n",
       "      <th>CUP</th>\n",
       "      <th>ENF. CRONICA PULMONAR OBSTRUCTIVA</th>\n",
       "      <th>BIOPSIA</th>\n",
       "      <th>NUMERO DE DIAS POST BIOPSIA EN QUE SE PRESENTA LA COMPLICACIÓN INFECCIOSA</th>\n",
       "      <th>FIEBRE</th>\n",
       "      <th>ITU</th>\n",
       "      <th>TIPO DE CULTIVO</th>\n",
       "      <th>AGENTE AISLADO</th>\n",
       "      <th>PATRON DE RESISTENCIA</th>\n",
       "      <th>HOSPITALIZACION</th>\n",
       "      <th>DIAS HOSPITALIZACION MQ</th>\n",
       "      <th>DIAS HOSPITALIZACIÓN UPC</th>\n",
       "    </tr>\n",
       "  </thead>\n",
       "  <tbody>\n",
       "    <tr>\n",
       "      <th>0</th>\n",
       "      <td>53.0</td>\n",
       "      <td>0.0</td>\n",
       "      <td>0.0</td>\n",
       "      <td>4.0</td>\n",
       "      <td>0.0</td>\n",
       "      <td>1.0</td>\n",
       "      <td>0.0</td>\n",
       "      <td>12.0</td>\n",
       "      <td>0.0</td>\n",
       "      <td>0.0</td>\n",
       "      <td>0.0</td>\n",
       "      <td>1.0</td>\n",
       "      <td>1.0</td>\n",
       "      <td>0.0</td>\n",
       "      <td>0.0</td>\n",
       "      <td>0.0</td>\n",
       "      <td>0.0</td>\n",
       "      <td>1.0</td>\n",
       "      <td>2.0</td>\n",
       "      <td>0.0</td>\n",
       "    </tr>\n",
       "    <tr>\n",
       "      <th>1</th>\n",
       "      <td>56.0</td>\n",
       "      <td>0.0</td>\n",
       "      <td>0.0</td>\n",
       "      <td>7.7</td>\n",
       "      <td>0.0</td>\n",
       "      <td>1.0</td>\n",
       "      <td>0.0</td>\n",
       "      <td>12.0</td>\n",
       "      <td>0.0</td>\n",
       "      <td>0.0</td>\n",
       "      <td>0.0</td>\n",
       "      <td>1.0</td>\n",
       "      <td>1.0</td>\n",
       "      <td>0.0</td>\n",
       "      <td>0.0</td>\n",
       "      <td>0.0</td>\n",
       "      <td>0.0</td>\n",
       "      <td>1.0</td>\n",
       "      <td>5.0</td>\n",
       "      <td>0.0</td>\n",
       "    </tr>\n",
       "    <tr>\n",
       "      <th>2</th>\n",
       "      <td>57.0</td>\n",
       "      <td>0.0</td>\n",
       "      <td>0.0</td>\n",
       "      <td>29.0</td>\n",
       "      <td>1.0</td>\n",
       "      <td>1.0</td>\n",
       "      <td>0.0</td>\n",
       "      <td>24.0</td>\n",
       "      <td>0.0</td>\n",
       "      <td>0.0</td>\n",
       "      <td>0.0</td>\n",
       "      <td>1.0</td>\n",
       "      <td>1.0</td>\n",
       "      <td>0.0</td>\n",
       "      <td>2.0</td>\n",
       "      <td>1.0</td>\n",
       "      <td>4.0</td>\n",
       "      <td>1.0</td>\n",
       "      <td>4.0</td>\n",
       "      <td>3.0</td>\n",
       "    </tr>\n",
       "    <tr>\n",
       "      <th>3</th>\n",
       "      <td>56.0</td>\n",
       "      <td>0.0</td>\n",
       "      <td>0.0</td>\n",
       "      <td>7.0</td>\n",
       "      <td>0.0</td>\n",
       "      <td>1.0</td>\n",
       "      <td>0.0</td>\n",
       "      <td>12.0</td>\n",
       "      <td>0.0</td>\n",
       "      <td>0.0</td>\n",
       "      <td>0.0</td>\n",
       "      <td>1.0</td>\n",
       "      <td>1.0</td>\n",
       "      <td>0.0</td>\n",
       "      <td>0.0</td>\n",
       "      <td>0.0</td>\n",
       "      <td>0.0</td>\n",
       "      <td>1.0</td>\n",
       "      <td>5.0</td>\n",
       "      <td>0.0</td>\n",
       "    </tr>\n",
       "    <tr>\n",
       "      <th>4</th>\n",
       "      <td>55.0</td>\n",
       "      <td>0.0</td>\n",
       "      <td>0.0</td>\n",
       "      <td>29.0</td>\n",
       "      <td>1.0</td>\n",
       "      <td>1.0</td>\n",
       "      <td>0.0</td>\n",
       "      <td>24.0</td>\n",
       "      <td>0.0</td>\n",
       "      <td>0.0</td>\n",
       "      <td>0.0</td>\n",
       "      <td>1.0</td>\n",
       "      <td>1.0</td>\n",
       "      <td>0.0</td>\n",
       "      <td>2.0</td>\n",
       "      <td>1.0</td>\n",
       "      <td>0.0</td>\n",
       "      <td>1.0</td>\n",
       "      <td>4.0</td>\n",
       "      <td>3.0</td>\n",
       "    </tr>\n",
       "  </tbody>\n",
       "</table>\n",
       "</div>"
      ],
      "text/plain": [
       "   EDAD  DIABETES  HOSPITALIZACIÓN ULTIMO MES   PSA  BIOPSIAS PREVIAS  \\\n",
       "0  53.0       0.0                         0.0   4.0               0.0   \n",
       "1  56.0       0.0                         0.0   7.7               0.0   \n",
       "2  57.0       0.0                         0.0  29.0               1.0   \n",
       "3  56.0       0.0                         0.0   7.0               0.0   \n",
       "4  55.0       0.0                         0.0  29.0               1.0   \n",
       "\n",
       "   VOLUMEN PROSTATICO  ANTIBIOTICO UTILIAZADO EN LA PROFILAXIS  \\\n",
       "0                 1.0                                      0.0   \n",
       "1                 1.0                                      0.0   \n",
       "2                 1.0                                      0.0   \n",
       "3                 1.0                                      0.0   \n",
       "4                 1.0                                      0.0   \n",
       "\n",
       "   NUMERO DE MUESTRAS TOMADAS  CUP  ENF. CRONICA PULMONAR OBSTRUCTIVA  \\\n",
       "0                        12.0  0.0                                0.0   \n",
       "1                        12.0  0.0                                0.0   \n",
       "2                        24.0  0.0                                0.0   \n",
       "3                        12.0  0.0                                0.0   \n",
       "4                        24.0  0.0                                0.0   \n",
       "\n",
       "   BIOPSIA  \\\n",
       "0      0.0   \n",
       "1      0.0   \n",
       "2      0.0   \n",
       "3      0.0   \n",
       "4      0.0   \n",
       "\n",
       "   NUMERO DE DIAS POST BIOPSIA EN QUE SE PRESENTA LA COMPLICACIÓN INFECCIOSA  \\\n",
       "0                                                1.0                           \n",
       "1                                                1.0                           \n",
       "2                                                1.0                           \n",
       "3                                                1.0                           \n",
       "4                                                1.0                           \n",
       "\n",
       "   FIEBRE  ITU  TIPO DE CULTIVO  AGENTE AISLADO  PATRON DE RESISTENCIA  \\\n",
       "0     1.0  0.0              0.0             0.0                    0.0   \n",
       "1     1.0  0.0              0.0             0.0                    0.0   \n",
       "2     1.0  0.0              2.0             1.0                    4.0   \n",
       "3     1.0  0.0              0.0             0.0                    0.0   \n",
       "4     1.0  0.0              2.0             1.0                    0.0   \n",
       "\n",
       "   HOSPITALIZACION  DIAS HOSPITALIZACION MQ  DIAS HOSPITALIZACIÓN UPC  \n",
       "0              1.0                      2.0                       0.0  \n",
       "1              1.0                      5.0                       0.0  \n",
       "2              1.0                      4.0                       3.0  \n",
       "3              1.0                      5.0                       0.0  \n",
       "4              1.0                      4.0                       3.0  "
      ]
     },
     "execution_count": 260,
     "metadata": {},
     "output_type": "execute_result"
    }
   ],
   "source": [
    "df.head() #Comprobamos que todo este en numeros"
   ]
  },
  {
   "cell_type": "code",
   "execution_count": 261,
   "metadata": {},
   "outputs": [],
   "source": [
    "df.to_csv('Datos_Listos.csv', index=False) #Guardamos en csv sacando el indice para que no quede guardado"
   ]
  },
  {
   "cell_type": "code",
   "execution_count": null,
   "metadata": {},
   "outputs": [],
   "source": []
  }
 ],
 "metadata": {
  "colab": {
   "provenance": []
  },
  "kernelspec": {
   "display_name": "Python 3 (ipykernel)",
   "language": "python",
   "name": "python3"
  },
  "language_info": {
   "codemirror_mode": {
    "name": "ipython",
    "version": 3
   },
   "file_extension": ".py",
   "mimetype": "text/x-python",
   "name": "python",
   "nbconvert_exporter": "python",
   "pygments_lexer": "ipython3",
   "version": "3.11.3"
  },
  "vscode": {
   "interpreter": {
    "hash": "ae0e7af47f894f9476ada5eb18ddb08363018cc3b7dc70bce08ae16d38df8604"
   }
  }
 },
 "nbformat": 4,
 "nbformat_minor": 1
}
